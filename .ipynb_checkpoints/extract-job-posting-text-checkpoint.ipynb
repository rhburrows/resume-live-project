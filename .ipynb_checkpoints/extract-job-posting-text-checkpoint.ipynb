{
 "cells": [
  {
   "cell_type": "code",
   "execution_count": 6,
   "metadata": {},
   "outputs": [],
   "source": [
    "from bs4 import BeautifulSoup as bs\n",
    "import pandas as pd\n",
    "from pathlib import Path\n",
    "import re"
   ]
  },
  {
   "cell_type": "code",
   "execution_count": 51,
   "metadata": {},
   "outputs": [],
   "source": [
    "data_path = Path('data')\n",
    "title_re = r\"(.*) - (([^\\-]*)(, [A-Z]{2})?( [0-9]{5})?)\\Z\"\n",
    "\n",
    "data = []\n",
    "for filename in data_path.glob('*_fccid.html'):\n",
    "    with open(filename, \"r\") as f:\n",
    "        soup = bs(f.read())\n",
    "\n",
    "        title_match = re.match(title_re, soup.title.text)\n",
    "        job_title = title_match[1].strip\n",
    "        location = title_match[2].strip\n",
    "        reqs = \",\".join(list(map(lambda x: x.text, soup.find_all('li')))).strip\n",
    "        data.append({ 'job': job_title, 'location': location, 'requirements': reqs })\n",
    "\n",
    "df = pd.DataFrame(rows)"
   ]
  },
  {
   "cell_type": "code",
   "execution_count": null,
   "metadata": {},
   "outputs": [],
   "source": []
  }
 ],
 "metadata": {
  "kernelspec": {
   "display_name": "Python 3",
   "language": "python",
   "name": "python3"
  },
  "language_info": {
   "codemirror_mode": {
    "name": "ipython",
    "version": 3
   },
   "file_extension": ".py",
   "mimetype": "text/x-python",
   "name": "python",
   "nbconvert_exporter": "python",
   "pygments_lexer": "ipython3",
   "version": "3.7.6"
  }
 },
 "nbformat": 4,
 "nbformat_minor": 4
}
